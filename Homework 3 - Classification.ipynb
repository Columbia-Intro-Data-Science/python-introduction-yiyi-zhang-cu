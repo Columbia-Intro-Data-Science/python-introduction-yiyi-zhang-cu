{
 "cells": [
  {
   "cell_type": "markdown",
   "metadata": {},
   "source": [
    "Please do one of the following.\n",
    "\n",
    "\n",
    "# Part I: Classification"
   ]
  },
  {
   "cell_type": "markdown",
   "metadata": {},
   "source": [
    "1) Load in the dataset `https://d1pqsl2386xqi9.cloudfront.net/notebooks/Default.csv` into a pandas dataframe"
   ]
  },
  {
   "cell_type": "markdown",
   "metadata": {},
   "source": [
    "2) Convert `default` and `student` to categorical variables."
   ]
  },
  {
   "cell_type": "markdown",
   "metadata": {},
   "source": [
    "3) Make boxplots of all of the variables and a scatter plot of of (balance,income) with the color\n",
    "of the outcome of `default` labeled red if yes and blue if no. "
   ]
  },
  {
   "cell_type": "markdown",
   "metadata": {},
   "source": [
    "4) Train a model to predict if a student defaults on their loan or not using LogisticRegression based soley\n",
    "on the `balance` and `income` variables. Plot the decision boundary in the scatter plot you made in 3) and compute the AUC ROC."
   ]
  },
  {
   "cell_type": "markdown",
   "metadata": {},
   "source": [
    "5) Repeat 4) but with the student variable included. Optimize using Ridge regression and plot the ranking\n",
    "of coefficients.  How does performance improve with the added variable?"
   ]
  },
  {
   "cell_type": "markdown",
   "metadata": {},
   "source": [
    "6) Using cross validation, check that the model you built in 5) is robust (generalizes to other random folds of the dataset)."
   ]
  },
  {
   "cell_type": "markdown",
   "metadata": {},
   "source": [
    "7) Train a Decision Tree classifier with maximum depth 5 and plot the decision tree. How does performance compare?"
   ]
  },
  {
   "cell_type": "markdown",
   "metadata": {},
   "source": [
    "8) Find the optimal decision tree depth and compute the AUC ROC. "
   ]
  },
  {
   "cell_type": "markdown",
   "metadata": {},
   "source": [
    "# Part II: Recommendation Systems. "
   ]
  },
  {
   "cell_type": "markdown",
   "metadata": {},
   "source": [
    "In this problem we will use the notebook https://github.com/Columbia-Intro-Data-Science/APMAE4990-/blob/master/notebooks/matrix_factorization_recommender.ipynb  as\n",
    "a starting point."
   ]
  },
  {
   "cell_type": "markdown",
   "metadata": {},
   "source": [
    "1) Split the ratings matrix `R_df` into training and testing sets. Remember we need to do this for rows and columns now. \n",
    "\n",
    "2) Evaluate the performance of the matrix factorization model for $K=50$. In particular, measure the:\n",
    " - Precision.\n",
    " - Recall. \n",
    "\n",
    "You can round up or down to the nearest integer for the ratings. \n",
    "\n",
    "3) Construct an item/item and user/user model, and evaluate the performance as in 2). How does it compare?\n",
    "\n",
    "4) Check how your answer to 3) changes (if at all) as you try different values of K for K=10, 20, 100. "
   ]
  }
 ],
 "metadata": {
  "anaconda-cloud": {},
  "kernelspec": {
   "display_name": "Python 3",
   "language": "python",
   "name": "python3"
  },
  "language_info": {
   "codemirror_mode": {
    "name": "ipython",
    "version": 3
   },
   "file_extension": ".py",
   "mimetype": "text/x-python",
   "name": "python",
   "nbconvert_exporter": "python",
   "pygments_lexer": "ipython3",
   "version": "3.6.0"
  }
 },
 "nbformat": 4,
 "nbformat_minor": 1
}
